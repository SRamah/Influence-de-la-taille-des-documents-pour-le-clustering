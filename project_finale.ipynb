{
 "cells": [
  {
   "cell_type": "markdown",
   "metadata": {},
   "source": [
    "# Sujet 3. Influence de la taille des documents pour le clustering"
   ]
  },
  {
   "cell_type": "code",
   "execution_count": 255,
   "metadata": {},
   "outputs": [],
   "source": [
    "import numpy as np\n",
    "import pandas as pd\n",
    "from time import time\n",
    "import logging\n",
    "import re\n",
    "import random\n",
    "\n",
    "import matplotlib\n",
    "%matplotlib notebook \n",
    "import matplotlib.pyplot as plt\n",
    "from mpl_toolkits import mplot3d\n",
    "from matplotlib.ticker import MaxNLocator\n",
    "\n",
    "from sklearn.datasets import fetch_20newsgroups\n",
    "\n",
    "import nltk\n",
    "import string\n",
    "from nltk.stem.snowball import EnglishStemmer\n",
    "from nltk.stem.porter import PorterStemmer\n",
    "from nltk.corpus import stopwords\n",
    "\n",
    "from sklearn.pipeline import Pipeline\n",
    "from sklearn.feature_extraction.text import CountVectorizer, TfidfVectorizer, TfidfTransformer\n",
    "from sklearn.decomposition import TruncatedSVD\n",
    "from sklearn.decomposition import LatentDirichletAllocation\n",
    "from spherecluster import SphericalKMeans\n",
    "\n",
    "import itertools\n",
    "from sklearn.metrics import confusion_matrix\n",
    "from sklearn.metrics.cluster import normalized_mutual_info_score\n",
    "from coclust.coclustering import CoclustMod\n",
    "from sklearn.metrics import adjusted_rand_score\n",
    "from coclust.evaluation.external import accuracy\n",
    "from sklearn.utils.linear_assignment_ import linear_assignment\n",
    "\n",
    "from sklearn.model_selection import GridSearchCV\n",
    "\n",
    "from operator import is_not\n",
    "from functools import partial\n",
    "\n",
    "np.random.seed(1994)"
   ]
  },
  {
   "cell_type": "code",
   "execution_count": null,
   "metadata": {},
   "outputs": [],
   "source": [
    "nltk.download('punkt')\n",
    "nltk.download('stopwords')"
   ]
  },
  {
   "cell_type": "markdown",
   "metadata": {},
   "source": [
    "### Jeu de données : the 20 newsgroups by date dataset\n",
    "`Ng5`, est un échantillon de `Ng20` pour lequel on ne retient que 5 cat égories. \n",
    "\n",
    "On pourra utiliser le code Python suivant :\n"
   ]
  },
  {
   "cell_type": "code",
   "execution_count": 3,
   "metadata": {},
   "outputs": [],
   "source": [
    "categories = [\n",
    "   'rec.motorcycles',\n",
    "   'rec.sport.baseball',\n",
    "   'comp.graphics',\n",
    "   'sci.space',\n",
    "   'talk.politics.mideast'\n",
    "]\n",
    "ng5 = fetch_20newsgroups(categories=categories, remove=('headers', 'footers', 'quotes'))\n",
    "#ng20 = fetch_20newsgroups()"
   ]
  },
  {
   "cell_type": "code",
   "execution_count": 4,
   "metadata": {},
   "outputs": [
    {
     "name": "stdout",
     "output_type": "stream",
     "text": [
      "Loading 20 newsgroups dataset for categories:\n",
      "['rec.motorcycles', 'rec.sport.baseball', 'comp.graphics', 'sci.space', 'talk.politics.mideast']\n",
      "\n",
      "2936 documents\n",
      "5 categories\n",
      "\n"
     ]
    }
   ],
   "source": [
    "documents = ng5.data\n",
    "targets = ng5.target\n",
    "data = ng5\n",
    "\n",
    "# #############################################################################\n",
    "\n",
    "print(\"Loading 20 newsgroups dataset for categories:\")\n",
    "print(categories)\n",
    "\n",
    "print(\"\\n%d documents\" % len(data.filenames))\n",
    "print(\"%d categories\" % len(data.target_names))\n",
    "print()"
   ]
  },
  {
   "cell_type": "code",
   "execution_count": 5,
   "metadata": {},
   "outputs": [
    {
     "name": "stdout",
     "output_type": "stream",
     "text": [
      "\n",
      "I'd be willing to make two wagers:\n",
      "1) Snow doesn't win ROY.\n",
      "2) Mattingly is out of baseball within five years.\n",
      "\n",
      "I'm skeptical of the first, because I don't think Snow is that good a\n",
      "player, and he is on a losing team.\n",
      "\n",
      "I'm skeptical of the second because of his back.  Mattingly is 32 this\n",
      "year, and how many players play until they are 40?  Not too many, and\n",
      "most of them didn't have chronic back problems when they were 32.\n",
      "\n",
      "Could be wrong on either or both, but I think that's the smart way to\n",
      "bet...\n"
     ]
    }
   ],
   "source": [
    "# Example of document\n",
    "print (documents[0])"
   ]
  },
  {
   "cell_type": "markdown",
   "metadata": {},
   "source": [
    "## 1) Corpus Generator + Documents Processing"
   ]
  },
  {
   "cell_type": "markdown",
   "metadata": {},
   "source": [
    "### Corpus Generator"
   ]
  },
  {
   "cell_type": "code",
   "execution_count": 6,
   "metadata": {},
   "outputs": [],
   "source": [
    "#Corpus Generator\n",
    "\n",
    "def get_corpus1(docs):\n",
    "    \"\"\"Tronquer les documents en ne prenant que le début (1/3)\"\"\"\n",
    "    sub_corpus = list()\n",
    "    for doc in docs:\n",
    "        temp = doc.split()\n",
    "        nb = len(temp)//3\n",
    "        sub_corpus.append(' '.join(temp[0:nb]))\n",
    "\n",
    "    return sub_corpus\n",
    "\n",
    "\n",
    "def get_corpus2(docs):\n",
    "    \"\"\"Retirer des mots aléatoirement, simulant ainsi des mots mal orthographiés\"\"\"\n",
    "    sub_corpus = list()\n",
    "    for doc in docs:\n",
    "        temp = doc.split()\n",
    "        nb = len(temp)//3\n",
    "        random_words = random.sample(temp, nb)\n",
    "        ww = (nb*10)//100 #10% du mots mal orthographiés\n",
    "        for i in range(ww):\n",
    "            wrong_word_ind = random.randint(0,nb-1)\n",
    "            w_temp = random_words[wrong_word_ind]\n",
    "            ind = random.randint(0, len(w_temp)-1)\n",
    "            \n",
    "            # Create alphabet list of lowercase letters\n",
    "            alphabet = []\n",
    "            for letter in range(97,123):\n",
    "                alphabet.append(chr(letter))\n",
    "            \n",
    "            C = random.sample(alphabet, 1)[0]\n",
    "            random_words[wrong_word_ind] = w_temp.replace(w_temp[ind], C)\n",
    "        sub_corpus.append(' '.join(random_words))\n",
    "\n",
    "    return sub_corpus\n",
    "  \n",
    "  "
   ]
  },
  {
   "cell_type": "markdown",
   "metadata": {},
   "source": [
    "### Natural Language Processing :: Remove stopwords + Stemmer"
   ]
  },
  {
   "cell_type": "code",
   "execution_count": 260,
   "metadata": {},
   "outputs": [],
   "source": [
    "stopWords = set(stopwords.words('english'))\n",
    "\n",
    "def check_aps(w):\n",
    "    if w not in stopWords:\n",
    "        stm = PorterStemmer().stem(w)\n",
    "        if (stm.find('\\'')!=-1):\n",
    "            temp = stm.split('\\'')\n",
    "            for partial_word in temp:\n",
    "                if len(partial_word)>2:\n",
    "                    return partial_word\n",
    "        else:\n",
    "            return stm\n",
    "\n",
    "def tokenize(text):\n",
    "    \n",
    "    r0 = r'[A-Z]{2,}(?![a-z])|[A-Z][a-z]+(?=[A-Z])|[\\'\\w\\-]+'\n",
    "    r1 = \"(?:\\d{,2}\\s)?(?:Jan|Feb|Mar|Apr|May|Jun|Jul|Aug|Sep|Oct|Nov|Dec)[a-z]*(?:-|\\.|\\s|,)\\s?\\d{,2}[a-z]*(?:-|,|\\s)?\\s?\\d{2,4}\"\n",
    "    r2 = \"(?:\\d{1,2}(?:-|\\/))?\\d{4}\"\n",
    "    r3 = \"(?:\\d{1,2})(?:(?:\\/|-)\\d{1,2})(?:(?:\\/|-)\\d{2,4})\"\n",
    "    #r4 = \"#[0-9A-Z]\\d{2,10}\"\n",
    "    pattern_r = r'('+r0+'|'+r1+'|'+r2+'|'+r3+')'\n",
    "    \n",
    "    stopWords = set(stopwords.words('english'))\n",
    "    \n",
    "    #tokens = re.findall(\"[A-Z]{2,}(?![a-z])|[A-Z][a-z]+(?=[A-Z])|[\\'\\w\\-]+\",text)\n",
    "    words = re.findall(pattern_r,text.lower())\n",
    "    \n",
    "    stems = list(map(check_aps, words))\n",
    "    \n",
    "    \n",
    "    \n",
    "    return list(filter(partial(is_not, None), stems))\n",
    "\n"
   ]
  },
  {
   "cell_type": "markdown",
   "metadata": {},
   "source": [
    "## 2~3) Pipelines + Clustering on all Corpus"
   ]
  },
  {
   "cell_type": "markdown",
   "metadata": {},
   "source": [
    "###  Config Pipeline"
   ]
  },
  {
   "cell_type": "code",
   "execution_count": 323,
   "metadata": {},
   "outputs": [],
   "source": [
    "def get_pipeline(LSA_n_components, LDA_n_components, steamer):\n",
    "    if steamer:\n",
    "        vectorizer_TFIDF = TfidfVectorizer(stop_words='english', use_idf=True, tokenizer=tokenize, min_df=2, max_df=0.95)\n",
    "    else:\n",
    "        vectorizer_TFIDF = TfidfVectorizer(norm='l2', stop_words='english', use_idf=True, smooth_idf=False, \n",
    "                                           sublinear_tf=False, min_df=2, max_df=0.95)\n",
    "    \n",
    "    #============================================ Define PiPELINES ==============================================#\n",
    "    # Preprocess documents with TfidfVectorizer only\n",
    "    pipeline_tfidf = Pipeline([ ('tfidf', vectorizer_TFIDF) ])\n",
    "    # Preprocess documents with Latent Semantic Analysis.\n",
    "    LSA_pipeline = Pipeline([\n",
    "        ('tfidf', vectorizer_TFIDF),\n",
    "        ('svd', TruncatedSVD(n_components=LSA_n_components, algorithm='randomized', n_iter=50, \n",
    "                             random_state=2020, tol=0.0))\n",
    "    ])\n",
    "    # Preprocess documents with Allocation de Dirichlet Latente (LDA)\n",
    "    pipeline_LDA = Pipeline([\n",
    "        ('tfidf', vectorizer_TFIDF),\n",
    "        ('lda', LatentDirichletAllocation(n_components=LDA_n_components, max_iter=10, learning_method='batch', random_state=2020, n_jobs=-1))\n",
    "        ])\n",
    "    \n",
    "    pipelines = {'tfidf':pipeline_tfidf, 'LSA':LSA_pipeline, 'LDA':pipeline_LDA}\n",
    "    return pipelines\n"
   ]
  },
  {
   "cell_type": "markdown",
   "metadata": {},
   "source": [
    "### Clustering using Spherical k-means"
   ]
  },
  {
   "cell_type": "code",
   "execution_count": null,
   "metadata": {},
   "outputs": [],
   "source": [
    "#=================== Trouvé la meilleure association entre les clusters des deux partitionnements comparés. =========#\n",
    "\n",
    "def changed_index(labels_true, labels_pred):\n",
    "    cm = confusion_matrix(labels_true, labels_pred)\n",
    "    s = np.max(cm)\n",
    "    cost = s - cm\n",
    "    indexes = linear_assignment(cost)\n",
    "    return indexes\n",
    "\n",
    "def adjusted_labels(labels_true, labels_pred):\n",
    "    adj_class = []\n",
    "    \n",
    "    cm = confusion_matrix(labels_true, labels_pred)\n",
    "    s = np.max(cm)\n",
    "    cost = s - cm\n",
    "    changed_index = linear_assignment(cost)\n",
    "    \n",
    "    for j in range(len(labels_pred)):\n",
    "        for i in range(len(changed_index)):\n",
    "            if(labels_pred[j] == changed_index[i,1]):\n",
    "                adj_class.append(changed_index[i,0])\n",
    "    return adj_class\n",
    "\n",
    "def miss_classified_docs(target, adjusted_labels):\n",
    "    target = pd.Series(target)\n",
    "    adjusted_labels = pd.Series(adjusted_labels)\n",
    "    diff = target!=adjusted_labels\n",
    "    diff_ = diff.values\n",
    "    nb_ms_classed = len(diff_[diff_==True])\n",
    "    docs_index = (pd.Series(diff_)[diff_==True].index).values\n",
    "    \n",
    "    return nb_ms_classed, docs_index\n",
    "\n",
    "\n",
    "def get_Cluster_scoring(labels_true, labels_pred):\n",
    "    \"\"\"Mesurer la différence entre les résultats de clustering\"\"\"\n",
    "    #best_index = changed_index(labels_true, labels_pred)\n",
    "    adjusted_classes = adjusted_labels(labels_true, labels_pred)\n",
    "    \n",
    "    Acc = accuracy(labels_true, adjusted_classes)\n",
    "    NMI = normalized_mutual_info_score(labels_true, adjusted_classes)\n",
    "    ARI = adjusted_rand_score(labels_true, adjusted_classes)\n",
    "    #print (\"\\nAccuracy = %f\"%Acc)\n",
    "    #print (\"NMI = %f\"%NMI) \n",
    "    #print (\"ARI = %f\"%ARI)\n",
    "    return [Acc, NMI, ARI]\n",
    "\n",
    "\n",
    "\n",
    "#============================================ Clustering Performance ==============================================#\n",
    "\n",
    "def clustering_performance(documents, targets, corpus_types, pipelines, steamer):\n",
    "    \n",
    "    cluster_models = {'doc':{'tfidf':{'Cluster model':None}, 'LSA':{'Cluster model':None}, 'LDA':{'Cluster model':None}}, \n",
    "                      'top':{'tfidf':{'Cluster model':None}, 'LSA':{'Cluster model':None}, 'LDA':{'Cluster model':None}}, \n",
    "                      'random':{'tfidf':{'Cluster model':None}, 'LSA':{'Cluster model':None}, 'LDA':{'Cluster model':None}}}\n",
    "    transformed_data = {'doc':{'tfidf':{'matrix':None}, 'LSA':{'matrix':None}, 'LDA':{'matrix':None}}, \n",
    "                      'top':{'tfidf':{'matrix':None}, 'LSA':{'matrix':None}, 'LDA':{'matrix':None}}, \n",
    "                      'random':{'tfidf':{'matrix':None}, 'LSA':{'matrix':None}, 'LDA':{'matrix':None}}}\n",
    "    resume = []\n",
    "    \n",
    "    for corpus_type in corpus_types:\n",
    "        if corpus_type == 'doc':\n",
    "            data = documents  \n",
    "        elif corpus_type == 'top':\n",
    "            data = get_corpus1(documents)\n",
    "        elif corpus_type == 'random':\n",
    "            data = get_corpus2(documents)\n",
    "        \n",
    "        for Type in pipelines.keys():\n",
    "            pipeline = pipelines[Type] \n",
    "            matrix = pipeline.fit_transform(data)\n",
    "            skm = SphericalKMeans(n_clusters=5, random_state=2020, n_jobs=-1, \n",
    "                                  n_init=10, max_iter=1000, normalize=True)\n",
    "            skm.fit(matrix)\n",
    "            #without steamer without headers\n",
    "            print(\"Clustering scores using SphericalKMeans on \"+Type+\" of \"+corpus_type+\" words:\")\n",
    "            scores = get_Cluster_scoring(targets, skm.labels_)\n",
    "\n",
    "            cluster_models[corpus_type][Type]['Cluster model'] = skm\n",
    "            transformed_data[corpus_type][Type]['matrix'] = matrix\n",
    "\n",
    "            scores.append(Type)\n",
    "            scores.append(corpus_type)\n",
    "            if Type=='tfidf':\n",
    "                scores.append(None)\n",
    "            elif Type=='LSA':\n",
    "                scores.append(int(pipeline.named_steps['svd'].n_components))\n",
    "            elif Type=='LDA':\n",
    "                scores.append(int(pipeline.named_steps['lda'].n_components))\n",
    "            scores.append(steamer)\n",
    "\n",
    "            resume.append(scores)\n",
    "        \n",
    "    resume = pd.DataFrame(resume,columns=['Accuracy', 'NMI', 'ARI', 'From', 'Corpus type',\n",
    "                                          'n_components', 'Steamer'])\n",
    "    \n",
    "    return transformed_data, cluster_models, resume\n",
    "        \n"
   ]
  },
  {
   "cell_type": "markdown",
   "metadata": {},
   "source": [
    "#### choice LSA dimension using SVD singular value"
   ]
  },
  {
   "cell_type": "code",
   "execution_count": 337,
   "metadata": {},
   "outputs": [],
   "source": [
    "vectorizer_TFIDF = TfidfVectorizer(norm='l2', stop_words='english', use_idf=True, smooth_idf=False, \n",
    "                                           sublinear_tf=False, min_df=2, max_df=0.95)\n",
    "Matrix_tfidf = vectorizer_TFIDF.fit_transform(documents)\n",
    "Matrix = Matrix_tfidf.toarray()\n",
    "u, s, vh = np.linalg.svd(Matrix, full_matrices=False)"
   ]
  },
  {
   "cell_type": "code",
   "execution_count": 341,
   "metadata": {},
   "outputs": [
    {
     "data": {
      "image/png": "[encoded data removed]",
      "text/plain": [
       "<Figure size 684x396 with 1 Axes>"
      ]
     },
     "metadata": {
      "needs_background": "light"
     },
     "output_type": "display_data"
    }
   ],
   "source": [
    "# Data for plotting\n",
    "t = range(1,len(s)+1)\n",
    "\n",
    "fig, ax = plt.subplots()\n",
    "ax.plot(t, s, color='green', marker='o', linestyle='dashed', linewidth=2, markersize=2)\n",
    "\n",
    "ax.set(xlabel='# singular values', ylabel='value',\n",
    "       title='SVD: Singular value evolution')\n",
    "ax.grid()\n",
    "\n",
    "fig.set_size_inches(9.5, 5.5)\n",
    "plt.axvline(x=350, linestyle=\"--\")\n",
    "ax.annotate(\"350\", (350, s[350]+2))\n",
    "ax.scatter(350, s[350], c=\"red\", marker='o', linewidths=5)\n",
    "ax.text(x=500, y=2, s='We choose a threshold of 1.37 <==> #Dim=350', fontsize=12, bbox=dict(facecolor='red', alpha=0.5), horizontalalignment='left')\n",
    "#fig.savefig(\"singular values.png\")\n",
    "plt.show()"
   ]
  },
  {
   "cell_type": "markdown",
   "metadata": {},
   "source": [
    "#### Fix params"
   ]
  },
  {
   "cell_type": "code",
   "execution_count": 324,
   "metadata": {},
   "outputs": [],
   "source": [
    "#============================================ set Params ==============================================#\n",
    "LSA_n_components = 350\n",
    "LDA_n_components = 400\n",
    "#============================================ get PiPELINES ==============================================#\n",
    "pipelines_with_streamer = get_pipeline(LSA_n_components, LDA_n_components, steamer=True)\n",
    "pipelines_without_streamer = get_pipeline(LSA_n_components, LDA_n_components, steamer=False)"
   ]
  },
  {
   "cell_type": "markdown",
   "metadata": {},
   "source": [
    "### Mesurer la différence entre plusieurs résultats de clustering"
   ]
  },
  {
   "cell_type": "markdown",
   "metadata": {},
   "source": [
    "##### Without Steamer"
   ]
  },
  {
   "cell_type": "code",
   "execution_count": 326,
   "metadata": {
    "collapsed": true
   },
   "outputs": [
    {
     "name": "stdout",
     "output_type": "stream",
     "text": [
      "Clustering scores using SphericalKMeans on tfidf of doc words:\n"
     ]
    },
    {
     "name": "stderr",
     "output_type": "stream",
     "text": [
      "/home/gpuadmin/.conda/envs/py3_ramah/lib/python3.6/site-packages/sklearn/metrics/cluster/supervised.py:844: FutureWarning: The behavior of NMI will change in version 0.22. To match the behavior of 'v_measure_score', NMI will use average_method='arithmetic' by default.\n",
      "  FutureWarning)\n"
     ]
    },
    {
     "name": "stdout",
     "output_type": "stream",
     "text": [
      "Clustering scores using SphericalKMeans on LSA of doc words:\n"
     ]
    },
    {
     "name": "stderr",
     "output_type": "stream",
     "text": [
      "/home/gpuadmin/.conda/envs/py3_ramah/lib/python3.6/site-packages/sklearn/metrics/cluster/supervised.py:844: FutureWarning: The behavior of NMI will change in version 0.22. To match the behavior of 'v_measure_score', NMI will use average_method='arithmetic' by default.\n",
      "  FutureWarning)\n"
     ]
    },
    {
     "name": "stdout",
     "output_type": "stream",
     "text": [
      "Clustering scores using SphericalKMeans on LDA of doc words:\n"
     ]
    },
    {
     "name": "stderr",
     "output_type": "stream",
     "text": [
      "/home/gpuadmin/.conda/envs/py3_ramah/lib/python3.6/site-packages/sklearn/metrics/cluster/supervised.py:844: FutureWarning: The behavior of NMI will change in version 0.22. To match the behavior of 'v_measure_score', NMI will use average_method='arithmetic' by default.\n",
      "  FutureWarning)\n"
     ]
    },
    {
     "name": "stdout",
     "output_type": "stream",
     "text": [
      "Clustering scores using SphericalKMeans on tfidf of top words:\n",
      "Clustering scores using SphericalKMeans on LSA of top words:\n"
     ]
    },
    {
     "name": "stderr",
     "output_type": "stream",
     "text": [
      "/home/gpuadmin/.conda/envs/py3_ramah/lib/python3.6/site-packages/sklearn/metrics/cluster/supervised.py:844: FutureWarning: The behavior of NMI will change in version 0.22. To match the behavior of 'v_measure_score', NMI will use average_method='arithmetic' by default.\n",
      "  FutureWarning)\n"
     ]
    },
    {
     "name": "stdout",
     "output_type": "stream",
     "text": [
      "Clustering scores using SphericalKMeans on LDA of top words:\n"
     ]
    },
    {
     "name": "stderr",
     "output_type": "stream",
     "text": [
      "/home/gpuadmin/.conda/envs/py3_ramah/lib/python3.6/site-packages/sklearn/metrics/cluster/supervised.py:844: FutureWarning: The behavior of NMI will change in version 0.22. To match the behavior of 'v_measure_score', NMI will use average_method='arithmetic' by default.\n",
      "  FutureWarning)\n"
     ]
    },
    {
     "name": "stdout",
     "output_type": "stream",
     "text": [
      "Clustering scores using SphericalKMeans on tfidf of random words:\n",
      "Clustering scores using SphericalKMeans on LSA of random words:\n"
     ]
    },
    {
     "name": "stderr",
     "output_type": "stream",
     "text": [
      "/home/gpuadmin/.conda/envs/py3_ramah/lib/python3.6/site-packages/sklearn/metrics/cluster/supervised.py:844: FutureWarning: The behavior of NMI will change in version 0.22. To match the behavior of 'v_measure_score', NMI will use average_method='arithmetic' by default.\n",
      "  FutureWarning)\n"
     ]
    },
    {
     "name": "stdout",
     "output_type": "stream",
     "text": [
      "Clustering scores using SphericalKMeans on LDA of random words:\n"
     ]
    },
    {
     "name": "stderr",
     "output_type": "stream",
     "text": [
      "/home/gpuadmin/.conda/envs/py3_ramah/lib/python3.6/site-packages/sklearn/metrics/cluster/supervised.py:844: FutureWarning: The behavior of NMI will change in version 0.22. To match the behavior of 'v_measure_score', NMI will use average_method='arithmetic' by default.\n",
      "  FutureWarning)\n"
     ]
    }
   ],
   "source": [
    "transformed_data, cluster_models, resume = clustering_performance(documents, targets, ['doc', 'top', 'random'],\n",
    "                                                                  pipelines_without_streamer, steamer=False)"
   ]
  },
  {
   "cell_type": "code",
   "execution_count": 327,
   "metadata": {},
   "outputs": [
    {
     "data": {
      "text/html": [
       "<div>\n",
       "<style scoped>\n",
       "    .dataframe tbody tr th:only-of-type {\n",
       "        vertical-align: middle;\n",
       "    }\n",
       "\n",
       "    .dataframe tbody tr th {\n",
       "        vertical-align: top;\n",
       "    }\n",
       "\n",
       "    .dataframe thead th {\n",
       "        text-align: right;\n",
       "    }\n",
       "</style>\n",
       "<table border=\"1\" class=\"dataframe\">\n",
       "  <thead>\n",
       "    <tr style=\"text-align: right;\">\n",
       "      <th></th>\n",
       "      <th>Accuracy</th>\n",
       "      <th>NMI</th>\n",
       "      <th>ARI</th>\n",
       "      <th>From</th>\n",
       "      <th>Corpus type</th>\n",
       "      <th>n_components</th>\n",
       "      <th>Steamer</th>\n",
       "    </tr>\n",
       "  </thead>\n",
       "  <tbody>\n",
       "    <tr>\n",
       "      <th>0</th>\n",
       "      <td>0.801431</td>\n",
       "      <td>0.565661</td>\n",
       "      <td>0.550434</td>\n",
       "      <td>tfidf</td>\n",
       "      <td>doc</td>\n",
       "      <td>NaN</td>\n",
       "      <td>False</td>\n",
       "    </tr>\n",
       "    <tr>\n",
       "      <th>1</th>\n",
       "      <td>0.840599</td>\n",
       "      <td>0.608500</td>\n",
       "      <td>0.637489</td>\n",
       "      <td>LSA</td>\n",
       "      <td>doc</td>\n",
       "      <td>350.0</td>\n",
       "      <td>False</td>\n",
       "    </tr>\n",
       "    <tr>\n",
       "      <th>2</th>\n",
       "      <td>0.318801</td>\n",
       "      <td>0.064764</td>\n",
       "      <td>0.057306</td>\n",
       "      <td>LDA</td>\n",
       "      <td>doc</td>\n",
       "      <td>400.0</td>\n",
       "      <td>False</td>\n",
       "    </tr>\n",
       "    <tr>\n",
       "      <th>3</th>\n",
       "      <td>0.424046</td>\n",
       "      <td>0.135604</td>\n",
       "      <td>0.136347</td>\n",
       "      <td>tfidf</td>\n",
       "      <td>top</td>\n",
       "      <td>NaN</td>\n",
       "      <td>False</td>\n",
       "    </tr>\n",
       "    <tr>\n",
       "      <th>4</th>\n",
       "      <td>0.208447</td>\n",
       "      <td>0.035625</td>\n",
       "      <td>-0.000012</td>\n",
       "      <td>LSA</td>\n",
       "      <td>top</td>\n",
       "      <td>350.0</td>\n",
       "      <td>False</td>\n",
       "    </tr>\n",
       "    <tr>\n",
       "      <th>5</th>\n",
       "      <td>0.260559</td>\n",
       "      <td>0.022249</td>\n",
       "      <td>0.018025</td>\n",
       "      <td>LDA</td>\n",
       "      <td>top</td>\n",
       "      <td>400.0</td>\n",
       "      <td>False</td>\n",
       "    </tr>\n",
       "    <tr>\n",
       "      <th>6</th>\n",
       "      <td>0.445504</td>\n",
       "      <td>0.158786</td>\n",
       "      <td>0.124491</td>\n",
       "      <td>tfidf</td>\n",
       "      <td>random</td>\n",
       "      <td>NaN</td>\n",
       "      <td>False</td>\n",
       "    </tr>\n",
       "    <tr>\n",
       "      <th>7</th>\n",
       "      <td>0.505109</td>\n",
       "      <td>0.211231</td>\n",
       "      <td>0.202215</td>\n",
       "      <td>LSA</td>\n",
       "      <td>random</td>\n",
       "      <td>350.0</td>\n",
       "      <td>False</td>\n",
       "    </tr>\n",
       "    <tr>\n",
       "      <th>8</th>\n",
       "      <td>0.297684</td>\n",
       "      <td>0.039977</td>\n",
       "      <td>0.028001</td>\n",
       "      <td>LDA</td>\n",
       "      <td>random</td>\n",
       "      <td>400.0</td>\n",
       "      <td>False</td>\n",
       "    </tr>\n",
       "  </tbody>\n",
       "</table>\n",
       "</div>"
      ],
      "text/plain": [
       "   Accuracy       NMI       ARI   From Corpus type  n_components  Steamer\n",
       "0  0.801431  0.565661  0.550434  tfidf         doc           NaN    False\n",
       "1  0.840599  0.608500  0.637489    LSA         doc         350.0    False\n",
       "2  0.318801  0.064764  0.057306    LDA         doc         400.0    False\n",
       "3  0.424046  0.135604  0.136347  tfidf         top           NaN    False\n",
       "4  0.208447  0.035625 -0.000012    LSA         top         350.0    False\n",
       "5  0.260559  0.022249  0.018025    LDA         top         400.0    False\n",
       "6  0.445504  0.158786  0.124491  tfidf      random           NaN    False\n",
       "7  0.505109  0.211231  0.202215    LSA      random         350.0    False\n",
       "8  0.297684  0.039977  0.028001    LDA      random         400.0    False"
      ]
     },
     "execution_count": 327,
     "metadata": {},
     "output_type": "execute_result"
    }
   ],
   "source": [
    "resume"
   ]
  },
  {
   "cell_type": "markdown",
   "metadata": {},
   "source": [
    "##### With Steamer"
   ]
  },
  {
   "cell_type": "code",
   "execution_count": 328,
   "metadata": {
    "collapsed": true
   },
   "outputs": [
    {
     "name": "stderr",
     "output_type": "stream",
     "text": [
      "/home/gpuadmin/.conda/envs/py3_ramah/lib/python3.6/site-packages/sklearn/feature_extraction/text.py:300: UserWarning: Your stop_words may be inconsistent with your preprocessing. Tokenizing the stop words generated tokens ['afterward', 'alon', 'alreadi', 'alway', 'anoth', 'anyon', 'anyth', 'anywher', 'becam', 'becom', 'besid', 'cri', 'describ', 'els', 'elsewher', 'empti', 'everi', 'everyon', 'everyth', 'everywher', 'fifti', 'formerli', 'forti', 'henc', 'hereaft', 'herebi', 'howev', 'hundr', 'inde', 'latterli', 'mani', 'meanwhil', 'moreov', 'mostli', 'nobodi', 'noon', 'noth', 'nowher', 'otherwis', 'perhap', 'pleas', 'seriou', 'sever', 'sinc', 'sincer', 'sixti', 'someon', 'someth', 'sometim', 'somewher', 'thenc', 'thereaft', 'therebi', 'therefor', 'thu', 'togeth', 'twelv', 'twenti', 'whatev', 'whenc', 'whenev', 'wherea', 'whereaft', 'wherebi', 'wherev'] not in stop_words.\n",
      "  'stop_words.' % sorted(inconsistent))\n"
     ]
    },
    {
     "name": "stdout",
     "output_type": "stream",
     "text": [
      "Clustering scores using SphericalKMeans on tfidf of doc words:\n",
      "Clustering scores using SphericalKMeans on LSA of doc words:\n"
     ]
    },
    {
     "name": "stderr",
     "output_type": "stream",
     "text": [
      "/home/gpuadmin/.conda/envs/py3_ramah/lib/python3.6/site-packages/sklearn/metrics/cluster/supervised.py:844: FutureWarning: The behavior of NMI will change in version 0.22. To match the behavior of 'v_measure_score', NMI will use average_method='arithmetic' by default.\n",
      "  FutureWarning)\n"
     ]
    },
    {
     "name": "stdout",
     "output_type": "stream",
     "text": [
      "Clustering scores using SphericalKMeans on LDA of doc words:\n"
     ]
    },
    {
     "name": "stderr",
     "output_type": "stream",
     "text": [
      "/home/gpuadmin/.conda/envs/py3_ramah/lib/python3.6/site-packages/sklearn/metrics/cluster/supervised.py:844: FutureWarning: The behavior of NMI will change in version 0.22. To match the behavior of 'v_measure_score', NMI will use average_method='arithmetic' by default.\n",
      "  FutureWarning)\n"
     ]
    },
    {
     "name": "stdout",
     "output_type": "stream",
     "text": [
      "Clustering scores using SphericalKMeans on tfidf of top words:\n",
      "Clustering scores using SphericalKMeans on LSA of top words:\n"
     ]
    },
    {
     "name": "stderr",
     "output_type": "stream",
     "text": [
      "/home/gpuadmin/.conda/envs/py3_ramah/lib/python3.6/site-packages/sklearn/metrics/cluster/supervised.py:844: FutureWarning: The behavior of NMI will change in version 0.22. To match the behavior of 'v_measure_score', NMI will use average_method='arithmetic' by default.\n",
      "  FutureWarning)\n"
     ]
    },
    {
     "name": "stdout",
     "output_type": "stream",
     "text": [
      "Clustering scores using SphericalKMeans on LDA of top words:\n"
     ]
    },
    {
     "name": "stderr",
     "output_type": "stream",
     "text": [
      "/home/gpuadmin/.conda/envs/py3_ramah/lib/python3.6/site-packages/sklearn/metrics/cluster/supervised.py:844: FutureWarning: The behavior of NMI will change in version 0.22. To match the behavior of 'v_measure_score', NMI will use average_method='arithmetic' by default.\n",
      "  FutureWarning)\n"
     ]
    },
    {
     "name": "stdout",
     "output_type": "stream",
     "text": [
      "Clustering scores using SphericalKMeans on tfidf of random words:\n",
      "Clustering scores using SphericalKMeans on LSA of random words:\n"
     ]
    },
    {
     "name": "stderr",
     "output_type": "stream",
     "text": [
      "/home/gpuadmin/.conda/envs/py3_ramah/lib/python3.6/site-packages/sklearn/metrics/cluster/supervised.py:844: FutureWarning: The behavior of NMI will change in version 0.22. To match the behavior of 'v_measure_score', NMI will use average_method='arithmetic' by default.\n",
      "  FutureWarning)\n"
     ]
    },
    {
     "name": "stdout",
     "output_type": "stream",
     "text": [
      "Clustering scores using SphericalKMeans on LDA of random words:\n"
     ]
    },
    {
     "name": "stderr",
     "output_type": "stream",
     "text": [
      "/home/gpuadmin/.conda/envs/py3_ramah/lib/python3.6/site-packages/sklearn/metrics/cluster/supervised.py:844: FutureWarning: The behavior of NMI will change in version 0.22. To match the behavior of 'v_measure_score', NMI will use average_method='arithmetic' by default.\n",
      "  FutureWarning)\n"
     ]
    }
   ],
   "source": [
    "transformed_data_s, cluster_models_s, resume_s = clustering_performance(documents, targets, ['doc', 'top', 'random'],\n",
    "                                                                  pipelines_with_streamer, steamer=True)"
   ]
  },
  {
   "cell_type": "code",
   "execution_count": 329,
   "metadata": {},
   "outputs": [
    {
     "data": {
      "text/html": [
       "<div>\n",
       "<style scoped>\n",
       "    .dataframe tbody tr th:only-of-type {\n",
       "        vertical-align: middle;\n",
       "    }\n",
       "\n",
       "    .dataframe tbody tr th {\n",
       "        vertical-align: top;\n",
       "    }\n",
       "\n",
       "    .dataframe thead th {\n",
       "        text-align: right;\n",
       "    }\n",
       "</style>\n",
       "<table border=\"1\" class=\"dataframe\">\n",
       "  <thead>\n",
       "    <tr style=\"text-align: right;\">\n",
       "      <th></th>\n",
       "      <th>Accuracy</th>\n",
       "      <th>NMI</th>\n",
       "      <th>ARI</th>\n",
       "      <th>From</th>\n",
       "      <th>Corpus type</th>\n",
       "      <th>n_components</th>\n",
       "      <th>Steamer</th>\n",
       "    </tr>\n",
       "  </thead>\n",
       "  <tbody>\n",
       "    <tr>\n",
       "      <th>0</th>\n",
       "      <td>0.821866</td>\n",
       "      <td>0.569270</td>\n",
       "      <td>0.604409</td>\n",
       "      <td>tfidf</td>\n",
       "      <td>doc</td>\n",
       "      <td>NaN</td>\n",
       "      <td>True</td>\n",
       "    </tr>\n",
       "    <tr>\n",
       "      <th>1</th>\n",
       "      <td>0.809946</td>\n",
       "      <td>0.570602</td>\n",
       "      <td>0.576685</td>\n",
       "      <td>LSA</td>\n",
       "      <td>doc</td>\n",
       "      <td>350.0</td>\n",
       "      <td>True</td>\n",
       "    </tr>\n",
       "    <tr>\n",
       "      <th>2</th>\n",
       "      <td>0.390327</td>\n",
       "      <td>0.144141</td>\n",
       "      <td>0.125052</td>\n",
       "      <td>LDA</td>\n",
       "      <td>doc</td>\n",
       "      <td>400.0</td>\n",
       "      <td>True</td>\n",
       "    </tr>\n",
       "    <tr>\n",
       "      <th>3</th>\n",
       "      <td>0.479564</td>\n",
       "      <td>0.209804</td>\n",
       "      <td>0.173725</td>\n",
       "      <td>tfidf</td>\n",
       "      <td>top</td>\n",
       "      <td>NaN</td>\n",
       "      <td>True</td>\n",
       "    </tr>\n",
       "    <tr>\n",
       "      <th>4</th>\n",
       "      <td>0.558583</td>\n",
       "      <td>0.264111</td>\n",
       "      <td>0.267267</td>\n",
       "      <td>LSA</td>\n",
       "      <td>top</td>\n",
       "      <td>350.0</td>\n",
       "      <td>True</td>\n",
       "    </tr>\n",
       "    <tr>\n",
       "      <th>5</th>\n",
       "      <td>0.315736</td>\n",
       "      <td>0.048178</td>\n",
       "      <td>0.043222</td>\n",
       "      <td>LDA</td>\n",
       "      <td>top</td>\n",
       "      <td>400.0</td>\n",
       "      <td>True</td>\n",
       "    </tr>\n",
       "    <tr>\n",
       "      <th>6</th>\n",
       "      <td>0.205041</td>\n",
       "      <td>0.014913</td>\n",
       "      <td>0.000021</td>\n",
       "      <td>tfidf</td>\n",
       "      <td>random</td>\n",
       "      <td>NaN</td>\n",
       "      <td>True</td>\n",
       "    </tr>\n",
       "    <tr>\n",
       "      <th>7</th>\n",
       "      <td>0.589578</td>\n",
       "      <td>0.248401</td>\n",
       "      <td>0.244724</td>\n",
       "      <td>LSA</td>\n",
       "      <td>random</td>\n",
       "      <td>350.0</td>\n",
       "      <td>True</td>\n",
       "    </tr>\n",
       "    <tr>\n",
       "      <th>8</th>\n",
       "      <td>0.247616</td>\n",
       "      <td>0.011878</td>\n",
       "      <td>0.008135</td>\n",
       "      <td>LDA</td>\n",
       "      <td>random</td>\n",
       "      <td>400.0</td>\n",
       "      <td>True</td>\n",
       "    </tr>\n",
       "  </tbody>\n",
       "</table>\n",
       "</div>"
      ],
      "text/plain": [
       "   Accuracy       NMI       ARI   From Corpus type  n_components  Steamer\n",
       "0  0.821866  0.569270  0.604409  tfidf         doc           NaN     True\n",
       "1  0.809946  0.570602  0.576685    LSA         doc         350.0     True\n",
       "2  0.390327  0.144141  0.125052    LDA         doc         400.0     True\n",
       "3  0.479564  0.209804  0.173725  tfidf         top           NaN     True\n",
       "4  0.558583  0.264111  0.267267    LSA         top         350.0     True\n",
       "5  0.315736  0.048178  0.043222    LDA         top         400.0     True\n",
       "6  0.205041  0.014913  0.000021  tfidf      random           NaN     True\n",
       "7  0.589578  0.248401  0.244724    LSA      random         350.0     True\n",
       "8  0.247616  0.011878  0.008135    LDA      random         400.0     True"
      ]
     },
     "execution_count": 329,
     "metadata": {},
     "output_type": "execute_result"
    }
   ],
   "source": [
    "resume_s"
   ]
  },
  {
   "cell_type": "code",
   "execution_count": null,
   "metadata": {},
   "outputs": [],
   "source": []
  },
  {
   "cell_type": "markdown",
   "metadata": {},
   "source": [
    "## 4) Identifier les documents dont la classification diffère"
   ]
  },
  {
   "cell_type": "markdown",
   "metadata": {},
   "source": [
    "##### Show Miss Classified Docs in Confusion Matrix"
   ]
  },
  {
   "cell_type": "code",
   "execution_count": 330,
   "metadata": {},
   "outputs": [],
   "source": [
    "def plot_confusion_matrix(cm, classes,\n",
    "                          normalize=False,\n",
    "                          title='Confusion matrix',\n",
    "                          cmap=plt.cm.Blues):\n",
    "    \"\"\"\n",
    "    This function prints and plots the confusion matrix.\n",
    "    Normalization can be applied by setting `normalize=True`.\n",
    "    \"\"\"\n",
    "    %matplotlib inline\n",
    "    if normalize:\n",
    "        cm = cm.astype('float') / cm.sum(axis=1)[:, np.newaxis]\n",
    "\n",
    "    plt.imshow(cm, interpolation='nearest', cmap=cmap)\n",
    "    plt.title(title)\n",
    "    plt.colorbar()\n",
    "    tick_marks = np.arange(len(classes))\n",
    "    plt.xticks(tick_marks, classes, rotation=45)\n",
    "    plt.yticks(tick_marks, classes)\n",
    "\n",
    "    fmt = '.2f' if normalize else 'd'\n",
    "    thresh = cm.max() / 2.\n",
    "    for i, j in itertools.product(range(cm.shape[0]), range(cm.shape[1])):\n",
    "        plt.text(j, i, format(cm[i, j], fmt),\n",
    "                 horizontalalignment=\"center\",\n",
    "                 color=\"white\" if cm[i, j] > thresh else \"black\")\n",
    "\n",
    "    plt.ylabel('True label')\n",
    "    plt.xlabel('Predicted label')\n",
    "    plt.tight_layout()\n",
    "    \n",
    "def show_adjusted_confusion_matrix(class_names, labels_true, labels_pred, title):\n",
    "    # Compute confusion matrix\n",
    "    cnf_matrix = confusion_matrix(labels_true, labels_pred)\n",
    "    np.set_printoptions(precision=2)\n",
    "\n",
    "    # Plot confusion matrix\n",
    "    plt.figure()\n",
    "    plot_confusion_matrix(cnf_matrix, classes=class_names, title=title)\n",
    "\n",
    "    plt.show()"
   ]
  },
  {
   "cell_type": "markdown",
   "metadata": {},
   "source": [
    "##### Calculat Miss Classified Docs in all corpus"
   ]
  },
  {
   "cell_type": "code",
   "execution_count": 331,
   "metadata": {},
   "outputs": [],
   "source": [
    "def Miss_Classification_detail(cluster_models, targets):\n",
    "    details = []\n",
    "    for corpus_type in cluster_models.keys():\n",
    "        # doc or top or random\n",
    "        skm_labels = []\n",
    "        # Predict labels using SK-Means with all pipelines\n",
    "        for pipeline_type in cluster_models[corpus_type].keys():\n",
    "            # tfidf and LSA only\n",
    "            skm = cluster_models[corpus_type][pipeline_type]['Cluster model']\n",
    "            skm_labels.append(skm.labels_)\n",
    "        \n",
    "        labels_tfidf = skm_labels[0]\n",
    "        labels_LSA = skm_labels[1]\n",
    "\n",
    "        # Adjusting labels\n",
    "        adjust_labels_tfidf = adjusted_labels(targets, labels_tfidf)\n",
    "        adjust_labels_LSA = adjusted_labels(targets, labels_LSA)\n",
    "\n",
    "        # Miss-classified docs in corpus_type\n",
    "        #### Model1 (LSA) vs. True Labels:\n",
    "        nb_ms_classed_LSA, docs_index_LSA = miss_classified_docs(targets, adjust_labels_tfidf)\n",
    "        #### Model2 (tfidf) vs. True Labels:\n",
    "        nb_ms_classed_tfidf, docs_index_tfidf = miss_classified_docs(targets, adjust_labels_LSA)\n",
    "        #### Model1(LSA) vs. Model2 (tfidf) :\n",
    "        nb_ms_classed_tfidf_LSA, docs_index_tfidf_LSA = miss_classified_docs(adjust_labels_tfidf, adjust_labels_LSA)\n",
    "        \n",
    "        tfidf_vs_targets = nb_ms_classed_tfidf/len(targets)*100\n",
    "        LSA_vs_targets = nb_ms_classed_LSA/len(targets)*100\n",
    "        LSA_vs_tfidf = nb_ms_classed_tfidf_LSA/len(targets)*100\n",
    "        details.append([tfidf_vs_targets, LSA_vs_targets, LSA_vs_tfidf, \n",
    "                        nb_ms_classed_tfidf, nb_ms_classed_LSA, nb_ms_classed_tfidf_LSA, corpus_type])\n",
    "        \n",
    "    details = pd.DataFrame(details,columns=['tfidf_vs_targets(%)', 'LSA_vs_targets(%)', 'LSA_vs_tfidf(%)', \n",
    "                                           'tfidf_vs_targets(docs)', 'LSA_vs_targets(docs)', 'LSA_vs_tfidf(docs)',\n",
    "                                          'corpus_type'])\n",
    "    return details"
   ]
  },
  {
   "cell_type": "code",
   "execution_count": 332,
   "metadata": {},
   "outputs": [],
   "source": [
    "details = Miss_Classification_detail(cluster_models, targets)\n",
    "details_s = Miss_Classification_detail(cluster_models_s, targets)"
   ]
  },
  {
   "cell_type": "markdown",
   "metadata": {},
   "source": [
    "##### Without Steamer"
   ]
  },
  {
   "cell_type": "code",
   "execution_count": 333,
   "metadata": {},
   "outputs": [
    {
     "data": {
      "text/html": [
       "<div>\n",
       "<style scoped>\n",
       "    .dataframe tbody tr th:only-of-type {\n",
       "        vertical-align: middle;\n",
       "    }\n",
       "\n",
       "    .dataframe tbody tr th {\n",
       "        vertical-align: top;\n",
       "    }\n",
       "\n",
       "    .dataframe thead th {\n",
       "        text-align: right;\n",
       "    }\n",
       "</style>\n",
       "<table border=\"1\" class=\"dataframe\">\n",
       "  <thead>\n",
       "    <tr style=\"text-align: right;\">\n",
       "      <th></th>\n",
       "      <th>tfidf_vs_targets(%)</th>\n",
       "      <th>LSA_vs_targets(%)</th>\n",
       "      <th>LSA_vs_tfidf(%)</th>\n",
       "      <th>tfidf_vs_targets(docs)</th>\n",
       "      <th>LSA_vs_targets(docs)</th>\n",
       "      <th>LSA_vs_tfidf(docs)</th>\n",
       "      <th>corpus_type</th>\n",
       "    </tr>\n",
       "  </thead>\n",
       "  <tbody>\n",
       "    <tr>\n",
       "      <th>0</th>\n",
       "      <td>15.940054</td>\n",
       "      <td>19.856948</td>\n",
       "      <td>14.543597</td>\n",
       "      <td>468</td>\n",
       "      <td>583</td>\n",
       "      <td>427</td>\n",
       "      <td>doc</td>\n",
       "    </tr>\n",
       "    <tr>\n",
       "      <th>1</th>\n",
       "      <td>79.155313</td>\n",
       "      <td>57.595368</td>\n",
       "      <td>78.371935</td>\n",
       "      <td>2324</td>\n",
       "      <td>1691</td>\n",
       "      <td>2301</td>\n",
       "      <td>top</td>\n",
       "    </tr>\n",
       "    <tr>\n",
       "      <th>2</th>\n",
       "      <td>49.489101</td>\n",
       "      <td>55.449591</td>\n",
       "      <td>53.814714</td>\n",
       "      <td>1453</td>\n",
       "      <td>1628</td>\n",
       "      <td>1580</td>\n",
       "      <td>random</td>\n",
       "    </tr>\n",
       "  </tbody>\n",
       "</table>\n",
       "</div>"
      ],
      "text/plain": [
       "   tfidf_vs_targets(%)  LSA_vs_targets(%)  LSA_vs_tfidf(%)  \\\n",
       "0            15.940054          19.856948        14.543597   \n",
       "1            79.155313          57.595368        78.371935   \n",
       "2            49.489101          55.449591        53.814714   \n",
       "\n",
       "   tfidf_vs_targets(docs)  LSA_vs_targets(docs)  LSA_vs_tfidf(docs)  \\\n",
       "0                     468                   583                 427   \n",
       "1                    2324                  1691                2301   \n",
       "2                    1453                  1628                1580   \n",
       "\n",
       "  corpus_type  \n",
       "0         doc  \n",
       "1         top  \n",
       "2      random  "
      ]
     },
     "execution_count": 333,
     "metadata": {},
     "output_type": "execute_result"
    }
   ],
   "source": [
    "details"
   ]
  },
  {
   "cell_type": "markdown",
   "metadata": {},
   "source": [
    "##### With Steamer"
   ]
  },
  {
   "cell_type": "code",
   "execution_count": 336,
   "metadata": {},
   "outputs": [
    {
     "data": {
      "text/html": [
       "<div>\n",
       "<style scoped>\n",
       "    .dataframe tbody tr th:only-of-type {\n",
       "        vertical-align: middle;\n",
       "    }\n",
       "\n",
       "    .dataframe tbody tr th {\n",
       "        vertical-align: top;\n",
       "    }\n",
       "\n",
       "    .dataframe thead th {\n",
       "        text-align: right;\n",
       "    }\n",
       "</style>\n",
       "<table border=\"1\" class=\"dataframe\">\n",
       "  <thead>\n",
       "    <tr style=\"text-align: right;\">\n",
       "      <th></th>\n",
       "      <th>tfidf_vs_targets(%)</th>\n",
       "      <th>LSA_vs_targets(%)</th>\n",
       "      <th>LSA_vs_tfidf(%)</th>\n",
       "      <th>tfidf_vs_targets(docs)</th>\n",
       "      <th>LSA_vs_targets(docs)</th>\n",
       "      <th>LSA_vs_tfidf(docs)</th>\n",
       "      <th>corpus_type</th>\n",
       "    </tr>\n",
       "  </thead>\n",
       "  <tbody>\n",
       "    <tr>\n",
       "      <th>0</th>\n",
       "      <td>19.005450</td>\n",
       "      <td>17.813351</td>\n",
       "      <td>17.779292</td>\n",
       "      <td>558</td>\n",
       "      <td>523</td>\n",
       "      <td>522</td>\n",
       "      <td>doc</td>\n",
       "    </tr>\n",
       "    <tr>\n",
       "      <th>1</th>\n",
       "      <td>44.141689</td>\n",
       "      <td>52.043597</td>\n",
       "      <td>54.461853</td>\n",
       "      <td>1296</td>\n",
       "      <td>1528</td>\n",
       "      <td>1599</td>\n",
       "      <td>top</td>\n",
       "    </tr>\n",
       "    <tr>\n",
       "      <th>2</th>\n",
       "      <td>41.042234</td>\n",
       "      <td>79.495913</td>\n",
       "      <td>83.310627</td>\n",
       "      <td>1205</td>\n",
       "      <td>2334</td>\n",
       "      <td>2446</td>\n",
       "      <td>random</td>\n",
       "    </tr>\n",
       "  </tbody>\n",
       "</table>\n",
       "</div>"
      ],
      "text/plain": [
       "   tfidf_vs_targets(%)  LSA_vs_targets(%)  LSA_vs_tfidf(%)  \\\n",
       "0            19.005450          17.813351        17.779292   \n",
       "1            44.141689          52.043597        54.461853   \n",
       "2            41.042234          79.495913        83.310627   \n",
       "\n",
       "   tfidf_vs_targets(docs)  LSA_vs_targets(docs)  LSA_vs_tfidf(docs)  \\\n",
       "0                     558                   523                 522   \n",
       "1                    1296                  1528                1599   \n",
       "2                    1205                  2334                2446   \n",
       "\n",
       "  corpus_type  \n",
       "0         doc  \n",
       "1         top  \n",
       "2      random  "
      ]
     },
     "execution_count": 336,
     "metadata": {},
     "output_type": "execute_result"
    }
   ],
   "source": [
    "details_s"
   ]
  },
  {
   "cell_type": "markdown",
   "metadata": {},
   "source": [
    "\n",
    "\n",
    "#### More details :: Miss Classified Docs In (corpus_type = doc)"
   ]
  },
  {
   "cell_type": "markdown",
   "metadata": {},
   "source": [
    "###### Model 1 with LSA"
   ]
  },
  {
   "cell_type": "code",
   "execution_count": 286,
   "metadata": {},
   "outputs": [
    {
     "name": "stdout",
     "output_type": "stream",
     "text": [
      "\n",
      "Accuracy = 0.840599\n",
      "NMI = 0.608500\n",
      "ARI = 0.637489\n"
     ]
    },
    {
     "name": "stderr",
     "output_type": "stream",
     "text": [
      "/home/gpuadmin/.conda/envs/py3_ramah/lib/python3.6/site-packages/sklearn/metrics/cluster/supervised.py:844: FutureWarning: The behavior of NMI will change in version 0.22. To match the behavior of 'v_measure_score', NMI will use average_method='arithmetic' by default.\n",
      "  FutureWarning)\n"
     ]
    }
   ],
   "source": [
    "Matrix_LSA = pipelines_without_streamer['LSA'].fit_transform(documents)\n",
    "\n",
    "skm_LSA = SphericalKMeans(n_clusters=5, random_state=2020, n_jobs=-1, n_init=10, max_iter=1000, normalize=True)\n",
    "skm_LSA.fit(Matrix_LSA)\n",
    "\n",
    "#without steamer without headers\n",
    "scores_LSA = get_Cluster_scoring(targets, skm_LSA.labels_)"
   ]
  },
  {
   "cell_type": "markdown",
   "metadata": {},
   "source": [
    "###### Model 2 with tfidf only"
   ]
  },
  {
   "cell_type": "code",
   "execution_count": 287,
   "metadata": {},
   "outputs": [
    {
     "name": "stdout",
     "output_type": "stream",
     "text": [
      "\n",
      "Accuracy = 0.801431\n",
      "NMI = 0.565661\n",
      "ARI = 0.550434\n"
     ]
    },
    {
     "name": "stderr",
     "output_type": "stream",
     "text": [
      "/home/gpuadmin/.conda/envs/py3_ramah/lib/python3.6/site-packages/sklearn/metrics/cluster/supervised.py:844: FutureWarning: The behavior of NMI will change in version 0.22. To match the behavior of 'v_measure_score', NMI will use average_method='arithmetic' by default.\n",
      "  FutureWarning)\n"
     ]
    }
   ],
   "source": [
    "Matrix_tfidf = pipelines_without_streamer['tfidf'].fit_transform(documents)\n",
    "\n",
    "skm_tfidf = SphericalKMeans(n_clusters=5, random_state=2020, n_jobs=-1, n_init=10, max_iter=1000, normalize=True)\n",
    "skm_tfidf.fit(Matrix_tfidf)\n",
    "\n",
    "#without steamer without headers\n",
    "scores_tfidf = get_Cluster_scoring(targets, skm_tfidf.labels_)"
   ]
  },
  {
   "cell_type": "code",
   "execution_count": 316,
   "metadata": {},
   "outputs": [],
   "source": [
    "#Matrix_tfidf\n",
    "#Matrix_LSA\n",
    "\n",
    "# Predicted using SK-Means\n",
    "labels_tfidf = skm_tfidf.labels_\n",
    "labels_LSA = skm_LSA.labels_\n",
    "\n",
    "# Adjusting labels\n",
    "adjust_labels_tfidf = adjusted_labels(targets, labels_tfidf)\n",
    "adjust_labels_LSA = adjusted_labels(targets, labels_LSA)\n",
    "\n",
    "# Miss-classified docs in all corpus 1\n",
    "#### Model1 (LSA) vs. True Labels:\n",
    "nb_ms_classed_LSA, docs_index_LSA = miss_classified_docs(targets, adjust_labels_tfidf)\n",
    "#### Model2 (tfidf) vs. True Labels:\n",
    "nb_ms_classed_tfidf, docs_index_tfidf = miss_classified_docs(targets, adjust_labels_LSA)\n",
    "#### Model1(LSA) vs. Model2 (tfidf) :\n",
    "nb_ms_classed_tfidf_LSA, docs_index_tfidf_LSA = miss_classified_docs(adjust_labels_tfidf, adjust_labels_LSA)"
   ]
  },
  {
   "cell_type": "code",
   "execution_count": 318,
   "metadata": {},
   "outputs": [
    {
     "name": "stdout",
     "output_type": "stream",
     "text": [
      "Miss Classified Documents using SK-means(tfidf): 15.94 %\n",
      "Miss Classified Documents using SK-means(LSA on tfidf): 19.86 %\n",
      "Miss Classified Documents between SK-means(LSA on tfidf) and SK-means(tfidf): 14.54 %\n"
     ]
    }
   ],
   "source": [
    "print('Miss Classified Documents using SK-means(tfidf): {0:.2f} %'.format(nb_ms_classed_tfidf/len(targets)*100))\n",
    "print('Miss Classified Documents using SK-means(LSA on tfidf): {0:.2f} %'.format(nb_ms_classed_LSA/len(targets)*100))\n",
    "print('Miss Classified Documents between SK-means(LSA on tfidf) and SK-means(tfidf): {0:.2f} %'.format(nb_ms_classed_tfidf_LSA/len(targets)*100))"
   ]
  },
  {
   "cell_type": "code",
   "execution_count": 319,
   "metadata": {},
   "outputs": [
    {
     "data": {
      "image/png": "[encoded data removed]",
      "text/plain": [
       "<Figure size 432x288 with 2 Axes>"
      ]
     },
     "metadata": {
      "needs_background": "light"
     },
     "output_type": "display_data"
    },
    {
     "name": "stdout",
     "output_type": "stream",
     "text": [
      "Summary : Miss Classified Documents using SK-means(tfidf): 15.94 %\n",
      "\n"
     ]
    },
    {
     "data": {
      "image/png": "[encoded data removed]",
      "text/plain": [
       "<Figure size 432x288 with 2 Axes>"
      ]
     },
     "metadata": {
      "needs_background": "light"
     },
     "output_type": "display_data"
    },
    {
     "name": "stdout",
     "output_type": "stream",
     "text": [
      "Summary : Miss Classified Documents using SK-means(LSA on tfidf): 19.86 %\n",
      "\n"
     ]
    },
    {
     "data": {
      "image/png": "[encoded data removed]",
      "text/plain": [
       "<Figure size 432x288 with 2 Axes>"
      ]
     },
     "metadata": {
      "needs_background": "light"
     },
     "output_type": "display_data"
    },
    {
     "name": "stdout",
     "output_type": "stream",
     "text": [
      "Summary : Miss Classified Documents between SK-means(LSA on tfidf) and SK-means(tfidf): 14.54 %\n",
      "\n"
     ]
    }
   ],
   "source": [
    "#### Confusion Matrice using SK-means(tfidf) vs. True Labels\n",
    "show_adjusted_confusion_matrix(categories, targets, adjust_labels_tfidf, \n",
    "                               'Confusion Matrice using SK-means(tfidf) vs. True Labels\\n')\n",
    "print('Summary : Miss Classified Documents using SK-means(tfidf): {0:.2f} %\\n'.format(nb_ms_classed_tfidf/len(targets)*100))\n",
    "\n",
    "#### Confusion Matrice using SK-means(LSA) vs. True Labels\n",
    "show_adjusted_confusion_matrix(categories, targets, adjust_labels_LSA, \n",
    "                               'Confusion Matrice using SK-means(LSA) vs. True Labels\\n')\n",
    "print('Summary : Miss Classified Documents using SK-means(LSA on tfidf): {0:.2f} %\\n'.format(nb_ms_classed_LSA/len(targets)*100))\n",
    "\n",
    "#### Confusion Matrice using SK-means(LSA) vs. True Labels\n",
    "show_adjusted_confusion_matrix(categories, adjust_labels_tfidf, adjust_labels_LSA, \n",
    "                               'Confusion Matrice ubetween SK-means(LSA on tfidf) and SK-means(tfidf)\\n')\n",
    "print('Summary : Miss Classified Documents between SK-means(LSA on tfidf) and SK-means(tfidf): {0:.2f} %\\n'.format(nb_ms_classed_tfidf_LSA/len(targets)*100))"
   ]
  },
  {
   "cell_type": "code",
   "execution_count": null,
   "metadata": {},
   "outputs": [],
   "source": []
  }
 ],
 "metadata": {
  "kernelspec": {
   "display_name": "Python 3",
   "language": "python",
   "name": "python3"
  },
  "language_info": {
   "codemirror_mode": {
    "name": "ipython",
    "version": 3
   },
   "file_extension": ".py",
   "mimetype": "text/x-python",
   "name": "python",
   "nbconvert_exporter": "python",
   "pygments_lexer": "ipython3",
   "version": "3.6.7"
  }
 },
 "nbformat": 4,
 "nbformat_minor": 2
}
